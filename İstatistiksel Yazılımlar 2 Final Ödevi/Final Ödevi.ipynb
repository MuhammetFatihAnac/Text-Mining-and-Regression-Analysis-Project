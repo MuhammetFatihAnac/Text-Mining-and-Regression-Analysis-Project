{
 "cells": [
  {
   "cell_type": "markdown",
   "id": "2f5756ea",
   "metadata": {},
   "source": [
    "# İsim: Muhammet Fatih\n",
    "# Soyisim: ANAÇ\n",
    "# Numara: 121521057"
   ]
  },
  {
   "cell_type": "markdown",
   "id": "97117a97",
   "metadata": {},
   "source": [
    "## Verisetinin Yüklenmesi"
   ]
  },
  {
   "cell_type": "code",
   "execution_count": 13,
   "id": "08c30507",
   "metadata": {},
   "outputs": [
    {
     "data": {
      "text/html": [
       "<div>\n",
       "<style scoped>\n",
       "    .dataframe tbody tr th:only-of-type {\n",
       "        vertical-align: middle;\n",
       "    }\n",
       "\n",
       "    .dataframe tbody tr th {\n",
       "        vertical-align: top;\n",
       "    }\n",
       "\n",
       "    .dataframe thead th {\n",
       "        text-align: right;\n",
       "    }\n",
       "</style>\n",
       "<table border=\"1\" class=\"dataframe\">\n",
       "  <thead>\n",
       "    <tr style=\"text-align: right;\">\n",
       "      <th></th>\n",
       "      <th>date</th>\n",
       "      <th>rating</th>\n",
       "      <th>review</th>\n",
       "      <th>product</th>\n",
       "    </tr>\n",
       "  </thead>\n",
       "  <tbody>\n",
       "    <tr>\n",
       "      <th>0</th>\n",
       "      <td>2021-07</td>\n",
       "      <td>1.0</td>\n",
       "      <td>I normally only need to wash my hair every 3-4...</td>\n",
       "      <td>Orchid Oil Shampoo</td>\n",
       "    </tr>\n",
       "    <tr>\n",
       "      <th>1</th>\n",
       "      <td>2020-08</td>\n",
       "      <td>2.0</td>\n",
       "      <td>My hair is long, thick, and dries mostly strai...</td>\n",
       "      <td>Orchid Oil Shampoo</td>\n",
       "    </tr>\n",
       "    <tr>\n",
       "      <th>2</th>\n",
       "      <td>2019-08</td>\n",
       "      <td>4.0</td>\n",
       "      <td>-lathers easily \\n-nice smell\\n-good for oily ...</td>\n",
       "      <td>Orchid Oil Shampoo</td>\n",
       "    </tr>\n",
       "    <tr>\n",
       "      <th>3</th>\n",
       "      <td>2018-08</td>\n",
       "      <td>5.0</td>\n",
       "      <td>I rarely have good results with using drug sto...</td>\n",
       "      <td>Orchid Oil Shampoo</td>\n",
       "    </tr>\n",
       "    <tr>\n",
       "      <th>4</th>\n",
       "      <td>2018-08</td>\n",
       "      <td>1.0</td>\n",
       "      <td>Has a light orchid scent. This shampoo left my...</td>\n",
       "      <td>Orchid Oil Shampoo</td>\n",
       "    </tr>\n",
       "  </tbody>\n",
       "</table>\n",
       "</div>"
      ],
      "text/plain": [
       "      date  rating                                             review  \\\n",
       "0  2021-07     1.0  I normally only need to wash my hair every 3-4...   \n",
       "1  2020-08     2.0  My hair is long, thick, and dries mostly strai...   \n",
       "2  2019-08     4.0  -lathers easily \\n-nice smell\\n-good for oily ...   \n",
       "3  2018-08     5.0  I rarely have good results with using drug sto...   \n",
       "4  2018-08     1.0  Has a light orchid scent. This shampoo left my...   \n",
       "\n",
       "              product  \n",
       "0  Orchid Oil Shampoo  \n",
       "1  Orchid Oil Shampoo  \n",
       "2  Orchid Oil Shampoo  \n",
       "3  Orchid Oil Shampoo  \n",
       "4  Orchid Oil Shampoo  "
      ]
     },
     "execution_count": 13,
     "metadata": {},
     "output_type": "execute_result"
    }
   ],
   "source": [
    "import numpy as np\n",
    "import pandas as pd\n",
    "\n",
    "jhns= pd.read_csv(\"C:/Users/m.fatih/OneDrive/Masaüstü/Ilk Ders Ist Yazilimlar 2/MakeupAlley_Reviews.csv\")\n",
    "jhns.head()\n"
   ]
  },
  {
   "cell_type": "markdown",
   "id": "253199af",
   "metadata": {},
   "source": [
    "### \"Date\" değişkeni yorumun yapıldığı tarihi, \"rating\" değişkeni kullanıcının aldığı ürüne 5 üzerinden verdiği puanı, \"review\" değişkeni kullanıcının aldığı ürüne yaptığı yorumu, \"product\" değişkeni kullanıcının aldığı ürünün ismini gösteriyor.\n",
    "### Daha sonra lojistik regresyon uygulaması yapacağım için ve bağımlı değişkenlerimin yetersiz olduğunu düşündüğüm için verisetime cinsiyet değişkeni ve yaş değişkeni ekledim. Cinsiyet değişkeninin değerleri rastgele olarak male ve female oldu. Yaş değişkeninin değerleri de 15 ile 60 arasından rastgele değerler oldu."
   ]
  },
  {
   "cell_type": "code",
   "execution_count": 3,
   "id": "628f8cbd",
   "metadata": {},
   "outputs": [],
   "source": [
    "def rastgele_cinsiyet_ekleme(veriseti):\n",
    "    satir_sayisi=len(veriseti)\n",
    "    cinsiyetler = np.random.choice(['male', 'female'], size=satir_sayisi)\n",
    "    veriseti[\"gender\"]=cinsiyetler\n",
    "\n",
    "rastgele_cinsiyet_ekleme(jhns)\n",
    "\n",
    "jhns[\"age\"]= np.random.randint(15,61,size=len(jhns))\n"
   ]
  },
  {
   "cell_type": "markdown",
   "id": "7c1bef31",
   "metadata": {},
   "source": [
    "## Eksik Gözlem Kontrolü"
   ]
  },
  {
   "cell_type": "code",
   "execution_count": 4,
   "id": "bf6e8fb5",
   "metadata": {},
   "outputs": [
    {
     "name": "stdout",
     "output_type": "stream",
     "text": [
      "0\n"
     ]
    }
   ],
   "source": [
    "jhns.isnull().any().sum()\n",
    "\n",
    "df_jhns = pd.DataFrame(jhns)\n",
    "df_jhns.isnull().any().sum()\n",
    "df_jhns = df_jhns.dropna()\n",
    "print(df_jhns.isnull().any().sum())\n",
    "\n",
    "jhns= df_jhns"
   ]
  },
  {
   "cell_type": "markdown",
   "id": "72da9242",
   "metadata": {},
   "source": [
    "### Eksik gözlem yok\n",
    "## Yorumların Tamamının Küçük Harfli Hale Getirilmesi"
   ]
  },
  {
   "cell_type": "code",
   "execution_count": 5,
   "id": "40363486",
   "metadata": {},
   "outputs": [],
   "source": [
    "jhns2=jhns.copy()\n",
    "jhns3= jhns2[\"review\"].apply(lambda x: x.lower())"
   ]
  },
  {
   "cell_type": "markdown",
   "id": "a1daf105",
   "metadata": {},
   "source": [
    "## Yorumlardaki Noktalama İşaretlerinin Silinmesi"
   ]
  },
  {
   "cell_type": "code",
   "execution_count": 6,
   "id": "2c983b2d",
   "metadata": {},
   "outputs": [
    {
     "data": {
      "text/plain": [
       "0       i normally only need to wash my hair every 34 ...\n",
       "1       my hair is long thick and dries mostly straigh...\n",
       "2         lathers easily \\nnice smell\\ngood for oily hair\n",
       "3       i rarely have good results with using drug sto...\n",
       "4       has a light orchid scent this shampoo left my ...\n",
       "                              ...                        \n",
       "2189    generally the appeal of organic conditioners i...\n",
       "2190    i liked the coconut series so i decided to giv...\n",
       "2191    i bought this conditioner while staying with f...\n",
       "2192    i bought this conditioner bc it had a mailin f...\n",
       "2193    this is the first product i bought after i wen...\n",
       "Name: review, Length: 2194, dtype: object"
      ]
     },
     "execution_count": 6,
     "metadata": {},
     "output_type": "execute_result"
    }
   ],
   "source": [
    "jhns3= jhns3.str.replace(\"[^\\w\\s]\", \"\", regex=True)\n",
    "jhns3"
   ]
  },
  {
   "cell_type": "markdown",
   "id": "2b23ebb8",
   "metadata": {},
   "source": [
    "## Yorumlardaki Sayıların Silinmesi"
   ]
  },
  {
   "cell_type": "code",
   "execution_count": 7,
   "id": "69f03d3c",
   "metadata": {},
   "outputs": [],
   "source": [
    "jhns3=jhns3.apply(lambda i: \" \".join(i for i in i.split() if not i.isnumeric()))"
   ]
  },
  {
   "cell_type": "markdown",
   "id": "010cfd77",
   "metadata": {},
   "source": [
    "## Yorumlardaki Stopwords İfadelerinin Silinmesi"
   ]
  },
  {
   "cell_type": "code",
   "execution_count": 8,
   "id": "25816138",
   "metadata": {},
   "outputs": [],
   "source": [
    "import nltk\n",
    "from nltk.corpus import stopwords\n",
    "stp= stopwords.words(\"english\")\n",
    "\n",
    "jhns3= jhns3.apply(lambda x: \" \".join(x for x in x.split() if x not in stp))"
   ]
  },
  {
   "cell_type": "markdown",
   "id": "e55a7d31",
   "metadata": {},
   "source": [
    "## Lemmatization Adımı"
   ]
  },
  {
   "cell_type": "code",
   "execution_count": 11,
   "id": "c193f488",
   "metadata": {
    "scrolled": true
   },
   "outputs": [
    {
     "name": "stderr",
     "output_type": "stream",
     "text": [
      "[nltk_data] Downloading package omw-1.4 to\n",
      "[nltk_data]     C:\\Users\\m.fatih\\AppData\\Roaming\\nltk_data...\n",
      "[nltk_data]   Package omw-1.4 is already up-to-date!\n",
      "[nltk_data] Downloading package wordnet to\n",
      "[nltk_data]     C:\\Users\\m.fatih\\AppData\\Roaming\\nltk_data...\n",
      "[nltk_data]   Package wordnet is already up-to-date!\n"
     ]
    }
   ],
   "source": [
    "import textblob\n",
    "from textblob import Word\n",
    "from textblob import TextBlob\n",
    "nltk.download(\"omw-1.4\")\n",
    "nltk.download(\"wordnet\")\n",
    "\n",
    "jhns3= jhns3.apply(lambda x: \" \".join(Word(i).lemmatize() for i in x.split()))\n",
    "jhns3\n",
    "jhns2[\"review\"]=jhns3"
   ]
  },
  {
   "cell_type": "markdown",
   "id": "e3d7f3cd",
   "metadata": {},
   "source": [
    "## Terim Frekansları Hesaplatma"
   ]
  },
  {
   "cell_type": "code",
   "execution_count": 66,
   "id": "18e3215d",
   "metadata": {},
   "outputs": [
    {
     "name": "stdout",
     "output_type": "stream",
     "text": [
      "          Kelime    Sayi\n",
      "0           hair  7249.0\n",
      "1            day   529.0\n",
      "2        shampoo  2143.0\n",
      "3            use  1244.0\n",
      "4       normally    51.0\n",
      "...          ...     ...\n",
      "8222      raleys     1.0\n",
      "8223        pale     1.0\n",
      "8224  seethrough     1.0\n",
      "8225        twig     1.0\n",
      "8226    itbefore     1.0\n",
      "\n",
      "[8227 rows x 2 columns]\n"
     ]
    }
   ],
   "source": [
    "frekanslar = jhns3.apply(lambda x: pd.value_counts(x.split(\" \"))).sum(axis=0).reset_index()\n",
    "frekanslar.columns=[\"Kelime\",\"Sayi\"]\n",
    "print(frekanslar)"
   ]
  },
  {
   "cell_type": "markdown",
   "id": "2e71b6b9",
   "metadata": {},
   "source": [
    "### Yorumlarda en çok geçen kelimenin \"hair\" kelimesi olduğu görülüyor. Daha sonra \"shampoo\" ve \"use\" kelimeleri geliyor. Yorumların, şampuan alan kişilerin aldıkları şampuanları kullandıktan sonra o şampuanla ilgili yaptıkları değerlendirmelerden oluştuğu anlaşılıyor. Bu durumu Wordcloud ile görsel yardımıyla inceleyebiliriz."
   ]
  },
  {
   "cell_type": "markdown",
   "id": "8b111cda",
   "metadata": {},
   "source": [
    "## Wordcloud"
   ]
  },
  {
   "cell_type": "code",
   "execution_count": 67,
   "id": "df18fcda",
   "metadata": {},
   "outputs": [
    {
     "data": {
      "text/plain": [
       "(-0.5, 399.5, 199.5, -0.5)"
      ]
     },
     "execution_count": 67,
     "metadata": {},
     "output_type": "execute_result"
    },
    {
     "data": {
      "image/png": "[encoded data removed]",
      "text/plain": [
       "<Figure size 432x288 with 1 Axes>"
      ]
     },
     "metadata": {
      "needs_background": "light"
     },
     "output_type": "display_data"
    }
   ],
   "source": [
    "metin=\"\"\n",
    "for i in jhns3:\n",
    "    metin=metin+i+\" \"\n",
    "\n",
    "from os import path\n",
    "from PIL import Image\n",
    "from wordcloud import WordCloud, STOPWORDS, ImageColorGenerator\n",
    "import matplotlib.pyplot as mtl\n",
    "\n",
    "wrdcl= WordCloud().generate(metin)\n",
    "mtl.imshow(wrdcl, interpolation=\"bilinear\")\n",
    "mtl.axis(\"off\")"
   ]
  },
  {
   "cell_type": "markdown",
   "id": "ac5d6218",
   "metadata": {},
   "source": [
    "### Wordcloud yardımıyla da \"hair\", \"shampoo\", \"use\" kelimeleri büyük yazıldığı için, bu kelimelerin yapılan yorumlarda çok geçtiği anlaşılıyor."
   ]
  },
  {
   "cell_type": "markdown",
   "id": "e949e12f",
   "metadata": {},
   "source": [
    "## Duygu Analizi"
   ]
  },
  {
   "cell_type": "code",
   "execution_count": 68,
   "id": "7ad0cca1",
   "metadata": {
    "scrolled": true
   },
   "outputs": [
    {
     "name": "stdout",
     "output_type": "stream",
     "text": [
      "\n",
      " \n",
      "         Pozitif  Negatif  Nötr\n",
      "Toplam     1857      321    16 \n",
      "\n"
     ]
    },
    {
     "data": {
      "text/html": [
       "<div>\n",
       "<style scoped>\n",
       "    .dataframe tbody tr th:only-of-type {\n",
       "        vertical-align: middle;\n",
       "    }\n",
       "\n",
       "    .dataframe tbody tr th {\n",
       "        vertical-align: top;\n",
       "    }\n",
       "\n",
       "    .dataframe thead th {\n",
       "        text-align: right;\n",
       "    }\n",
       "</style>\n",
       "<table border=\"1\" class=\"dataframe\">\n",
       "  <thead>\n",
       "    <tr style=\"text-align: right;\">\n",
       "      <th></th>\n",
       "      <th>date</th>\n",
       "      <th>rating</th>\n",
       "      <th>review</th>\n",
       "      <th>product</th>\n",
       "      <th>gender</th>\n",
       "      <th>age</th>\n",
       "      <th>sentiment</th>\n",
       "    </tr>\n",
       "  </thead>\n",
       "  <tbody>\n",
       "    <tr>\n",
       "      <th>0</th>\n",
       "      <td>2021-07</td>\n",
       "      <td>1.0</td>\n",
       "      <td>normally need wash hair every day shampoo hair...</td>\n",
       "      <td>Orchid Oil Shampoo</td>\n",
       "      <td>male</td>\n",
       "      <td>54</td>\n",
       "      <td>-1</td>\n",
       "    </tr>\n",
       "    <tr>\n",
       "      <th>1</th>\n",
       "      <td>2020-08</td>\n",
       "      <td>2.0</td>\n",
       "      <td>hair long thick dry mostly straight wave balay...</td>\n",
       "      <td>Orchid Oil Shampoo</td>\n",
       "      <td>male</td>\n",
       "      <td>20</td>\n",
       "      <td>1</td>\n",
       "    </tr>\n",
       "    <tr>\n",
       "      <th>2</th>\n",
       "      <td>2019-08</td>\n",
       "      <td>4.0</td>\n",
       "      <td>lather easily nice smell good oily hair</td>\n",
       "      <td>Orchid Oil Shampoo</td>\n",
       "      <td>female</td>\n",
       "      <td>15</td>\n",
       "      <td>1</td>\n",
       "    </tr>\n",
       "    <tr>\n",
       "      <th>3</th>\n",
       "      <td>2018-08</td>\n",
       "      <td>5.0</td>\n",
       "      <td>rarely good result using drug store shampoo co...</td>\n",
       "      <td>Orchid Oil Shampoo</td>\n",
       "      <td>female</td>\n",
       "      <td>49</td>\n",
       "      <td>1</td>\n",
       "    </tr>\n",
       "    <tr>\n",
       "      <th>4</th>\n",
       "      <td>2018-08</td>\n",
       "      <td>1.0</td>\n",
       "      <td>light orchid scent shampoo left fine dry hair ...</td>\n",
       "      <td>Orchid Oil Shampoo</td>\n",
       "      <td>female</td>\n",
       "      <td>53</td>\n",
       "      <td>1</td>\n",
       "    </tr>\n",
       "  </tbody>\n",
       "</table>\n",
       "</div>"
      ],
      "text/plain": [
       "      date  rating                                             review  \\\n",
       "0  2021-07     1.0  normally need wash hair every day shampoo hair...   \n",
       "1  2020-08     2.0  hair long thick dry mostly straight wave balay...   \n",
       "2  2019-08     4.0            lather easily nice smell good oily hair   \n",
       "3  2018-08     5.0  rarely good result using drug store shampoo co...   \n",
       "4  2018-08     1.0  light orchid scent shampoo left fine dry hair ...   \n",
       "\n",
       "              product  gender  age  sentiment  \n",
       "0  Orchid Oil Shampoo    male   54         -1  \n",
       "1  Orchid Oil Shampoo    male   20          1  \n",
       "2  Orchid Oil Shampoo  female   15          1  \n",
       "3  Orchid Oil Shampoo  female   49          1  \n",
       "4  Orchid Oil Shampoo  female   53          1  "
      ]
     },
     "execution_count": 68,
     "metadata": {},
     "output_type": "execute_result"
    }
   ],
   "source": [
    "duygular=[]\n",
    "\n",
    "for yorum in jhns3:\n",
    "    blob=TextBlob(yorum)\n",
    "    duygu=blob.sentiment.polarity\n",
    "    \n",
    "    if duygu>0:\n",
    "        sent=1\n",
    "    elif duygu<0:\n",
    "        sent=-1\n",
    "    else:\n",
    "        sent=0\n",
    "    duygular.append(sent)\n",
    "\n",
    "    \n",
    "    \n",
    "pozitif_sayi = duygular.count(1)\n",
    "negatif_sayi = duygular.count(-1)\n",
    "nötr_sayi = duygular.count(0)    \n",
    "\n",
    "    \n",
    "tablo = pd.DataFrame([[pozitif_sayi, negatif_sayi, nötr_sayi]], columns=[\"Pozitif\", \"Negatif\", \"Nötr\"], index=[\"Toplam\"])\n",
    "\n",
    "print(\"\\n\",\"\\n\",tablo,\"\\n\")\n",
    "\n",
    "jhns2[\"sentiment\"] = duygular\n",
    "jhns2.head()"
   ]
  },
  {
   "cell_type": "markdown",
   "id": "a8626ad5",
   "metadata": {},
   "source": [
    "### En üstte gözüken dataframe çıktısına bakıldığında, pozitif yorumların 1857, negatif yorumların 321, nötr yorumların 16 tane olduğu görülüyor. Alınan ürünlerin çoğundan memnun kalındığı anlaşılıyor.\n",
    "### Yapılan her yorum; pozitif kelimeler içeriyorsa 1'e yakın, negatif kelimeler içeriyorsa -1'e yakın ve nötr kelimeler içeriyorsa 0 değerlerini alıyor. Daha kolay yorumlayabilmek için 0'dan büyük değerleri 1, 0'dan küçük değerleri ise -1 olarak atayıp duygu listesine ekledim. Bu sayede negatif ve pozitif yorumlar daha net bir şekilde ayrıldı. Nötr yorum 16 tane olduğu için o yorumların olduğu satırları verimden çıkartıyorum. Bu şekilde sentiment değişkeni -1 ve 1 değerlerini alıyor ve Lojistik Regresyon modeline uygun bir formata dönüşüyor."
   ]
  },
  {
   "cell_type": "code",
   "execution_count": 69,
   "id": "5b39c3a3",
   "metadata": {},
   "outputs": [
    {
     "data": {
      "text/plain": [
       "1    1857\n",
       "0     321\n",
       "Name: sentiment, dtype: int64"
      ]
     },
     "execution_count": 69,
     "metadata": {},
     "output_type": "execute_result"
    }
   ],
   "source": [
    "jhns2 =jhns2[jhns2['sentiment'] != 0]\n",
    "jhns2[\"sentiment\"]=jhns2[\"sentiment\"].replace(-1,0)\n",
    "jhns2[\"sentiment\"].value_counts()"
   ]
  },
  {
   "cell_type": "markdown",
   "id": "1ffcb760",
   "metadata": {},
   "source": [
    "### Nötr yorumları veriden çıkarttım. Geriye 1857 pozitif yorum, 321 negatif yorum kaldı. Lojistik regresyon formatına daha çok uyması için negatif yorumların -1 değerini 0 olarak değiştirdim. \"sentiment\" değişkeni, negatif yorumları temsil eden 0 değerlerinden ve pozitif yorumları temsil eden 1 değerlerinden oluşuyor."
   ]
  },
  {
   "cell_type": "markdown",
   "id": "8d73401d",
   "metadata": {},
   "source": [
    "## Bar Grafiği"
   ]
  },
  {
   "cell_type": "code",
   "execution_count": 70,
   "id": "f5180f03",
   "metadata": {},
   "outputs": [
    {
     "data": {
      "image/png": "[encoded data removed]",
      "text/plain": [
       "<Figure size 432x288 with 1 Axes>"
      ]
     },
     "metadata": {
      "needs_background": "light"
     },
     "output_type": "display_data"
    }
   ],
   "source": [
    "import matplotlib.pyplot as plt\n",
    "jhns2[\"sentiment\"].value_counts().plot.barh()\n",
    "plt.xlabel(\"Frekans\", fontsize=20)\n",
    "plt.ylabel(\"Değerler\", fontsize=20)\n",
    "plt.show()"
   ]
  },
  {
   "cell_type": "code",
   "execution_count": 71,
   "id": "6e5319a4",
   "metadata": {},
   "outputs": [
    {
     "data": {
      "text/plain": [
       "Nourishing Coconut Milk Shampoo                    60\n",
       "Coconut Milk Anti-Breakage Serum                   60\n",
       "Renewing Argan Oil Morocco Penetrating Oil         60\n",
       "Rejuvenating Cherry Blossom Ginseng Shampoo        60\n",
       "Ever Straight Brazilian Keratin Therapy            60\n",
       "                                                   ..\n",
       "Healing + Vitamin E Conditioner                     1\n",
       "Rejuvenating Cherry Blossom Ginseng Shine Spray     1\n",
       "Healing + Vitamin E Shampoo                         1\n",
       "Frizz Defy + Coconut Miracle Oil Air Dry Cream      1\n",
       "Coconut Curls Finishing Spray                       1\n",
       "Name: product, Length: 166, dtype: int64"
      ]
     },
     "execution_count": 71,
     "metadata": {},
     "output_type": "execute_result"
    }
   ],
   "source": [
    "jhns2[\"product\"].value_counts()"
   ]
  },
  {
   "cell_type": "markdown",
   "id": "7887f8f3",
   "metadata": {},
   "source": [
    "### Yukarıdaki satırda da görüldüğü gibi belirli ürünler çok az sayıda alınmış. En çok alınan ürünlerin sayısı 60 olduğu için ve birçok ürün 60 defa alındığı için 60'tan az alınan ürünlerin olduğu satırları verisetimden çıkartıyorum."
   ]
  },
  {
   "cell_type": "code",
   "execution_count": 72,
   "id": "b4a2c70c",
   "metadata": {},
   "outputs": [
    {
     "data": {
      "text/plain": [
       "Renewing Argan Oil Morocco Penetrating Oil                             60\n",
       "Moroccan Argan Oil Renewing Treatment [DISCONTINUED (reformulated)]    60\n",
       "Nourishing Coconut Milk Shampoo                                        60\n",
       "Rejuvenating Cherry Blossom Ginseng Shampoo                            60\n",
       "Thick & Full Biotin & Collagen Shampoo                                 60\n",
       "Coconut Milk Anti-Breakage Serum                                       60\n",
       "Ever Straight Brazilian Keratin Therapy                                60\n",
       "Renewing Argan Oil Morocco Shampoo                                     60\n",
       "Name: product, dtype: int64"
      ]
     },
     "execution_count": 72,
     "metadata": {},
     "output_type": "execute_result"
    }
   ],
   "source": [
    "tekrar_sayisi=jhns2[\"product\"].value_counts()\n",
    "az_tekrar_edilenler_indeks= tekrar_sayisi[tekrar_sayisi < 60].index\n",
    "jhns2 =jhns2[jhns2['product'].apply(lambda x: x not in az_tekrar_edilenler_indeks)]\n",
    "jhns2\n",
    "jhns2[\"product\"].value_counts()"
   ]
  },
  {
   "cell_type": "markdown",
   "id": "079f08d7",
   "metadata": {},
   "source": [
    "## Dummy Değişken Atama, Bağımlı ve Bağımsız Değişkenlerin Belirlenmesi"
   ]
  },
  {
   "cell_type": "code",
   "execution_count": 73,
   "id": "09c11830",
   "metadata": {
    "scrolled": true
   },
   "outputs": [
    {
     "name": "stdout",
     "output_type": "stream",
     "text": [
      "Index(['date', 'rating', 'review', 'age', 'sentiment',\n",
      "       'product_Coconut Milk Anti-Breakage Serum',\n",
      "       'product_Ever Straight Brazilian Keratin Therapy',\n",
      "       'product_Moroccan Argan Oil Renewing Treatment [DISCONTINUED (reformulated)]',\n",
      "       'product_Nourishing Coconut Milk Shampoo',\n",
      "       'product_Rejuvenating Cherry Blossom Ginseng Shampoo',\n",
      "       'product_Renewing Argan Oil Morocco Penetrating Oil',\n",
      "       'product_Renewing Argan Oil Morocco Shampoo',\n",
      "       'product_Thick & Full Biotin & Collagen Shampoo', 'gender_female',\n",
      "       'gender_male'],\n",
      "      dtype='object')\n"
     ]
    }
   ],
   "source": [
    "jhns2 = pd.get_dummies(jhns2, columns=['product', 'gender'])\n",
    "print(jhns2.columns)"
   ]
  },
  {
   "cell_type": "code",
   "execution_count": 74,
   "id": "17714584",
   "metadata": {},
   "outputs": [],
   "source": [
    "y = jhns2[\"sentiment\"]\n",
    "x = jhns2.drop([\"sentiment\",\"review\",\"date\"], axis=1)"
   ]
  },
  {
   "cell_type": "markdown",
   "id": "abaab606",
   "metadata": {},
   "source": [
    "### Verisetinden veri çıkarttığım için satır numaraları 0'dan değil 8'den başlıyor. Bunu düzeltmek için:"
   ]
  },
  {
   "cell_type": "code",
   "execution_count": 75,
   "id": "7069a49f",
   "metadata": {},
   "outputs": [
    {
     "name": "stdout",
     "output_type": "stream",
     "text": [
      "0    1\n",
      "1    0\n",
      "2    1\n",
      "3    1\n",
      "4    1\n",
      "Name: sentiment, dtype: int64\n"
     ]
    }
   ],
   "source": [
    "jhns2.reset_index(drop=True, inplace=True)\n",
    "y.reset_index(drop=True, inplace=True)\n",
    "x.reset_index(drop=True, inplace=True)\n",
    "print(y.head())"
   ]
  },
  {
   "cell_type": "markdown",
   "id": "54a8730f",
   "metadata": {},
   "source": [
    "## Sklearn Lojistic Regresyon"
   ]
  },
  {
   "cell_type": "code",
   "execution_count": 76,
   "id": "e0337a2c",
   "metadata": {},
   "outputs": [
    {
     "name": "stdout",
     "output_type": "stream",
     "text": [
      "                                          Değişkenler  Katsayılar\n",
      "0                                              rating    0.685880\n",
      "1                                                 age    0.012117\n",
      "2            product_Coconut Milk Anti-Breakage Serum   -0.428452\n",
      "3     product_Ever Straight Brazilian Keratin Therapy   -0.162670\n",
      "4   product_Moroccan Argan Oil Renewing Treatment ...   -0.275278\n",
      "5             product_Nourishing Coconut Milk Shampoo   -0.009760\n",
      "6   product_Rejuvenating Cherry Blossom Ginseng Sh...    0.417717\n",
      "7   product_Renewing Argan Oil Morocco Penetrating...    0.015518\n",
      "8          product_Renewing Argan Oil Morocco Shampoo    0.071516\n",
      "9      product_Thick & Full Biotin & Collagen Shampoo   -0.110720\n",
      "10                                      gender_female   -0.222506\n",
      "11                                        gender_male   -0.259623\n",
      "12                                          sentiment   -0.482129\n"
     ]
    }
   ],
   "source": [
    "\n",
    "from sklearn.linear_model import LogisticRegression\n",
    "\n",
    "log_model = LogisticRegression( solver=\"liblinear\").fit(x,y)\n",
    "\n",
    "\n",
    "katsayılar=[]\n",
    "for i in log_model.coef_:\n",
    "    for j in i:\n",
    "        katsayılar.append(j)\n",
    "        \n",
    "        \n",
    "degiskenler=[]\n",
    "\n",
    "for i in x.columns:\n",
    "    degiskenler.append(i)\n",
    "    \n",
    "for i in log_model.intercept_:\n",
    "    katsayılar.append(i)\n",
    "\n",
    "degiskenler.append(y.name)\n",
    "\n",
    "df = pd.DataFrame(list(zip(degiskenler, katsayılar)), columns=[\"Değişkenler\", \"Katsayılar\"])\n",
    "\n",
    "print(df)\n"
   ]
  },
  {
   "cell_type": "markdown",
   "id": "f50a74b1",
   "metadata": {},
   "source": [
    "### Katsayılar incelendiğinde, rating değişkenindeki her 1 birimlik artış olumlu yorum yapma ihtimalini 0.68 arttırıyor. Yani bir kişinin aldığı ürünü 5 üzerinden değerlendirmesindeki her 1 birimlik artış, o kişinin pozitif yorum yapma ihtimalini 0.68 arttırır.\n",
    "### Age değişkenindeki 1 birimlik artış olumlu yorum yapma ihtimalini 0.012 arttırıyor. Bu durum pozitif veya negatif yorum yapmanın yaşla pek ilgili olmadığını gösteriyor. Yaşı daha büyük kişilerin az da olsa pozitif yorum yapma eğiliminde olduğunu gösteriyor.\n",
    "### Diğer katsayılar da benzer şekilde yorumlanabilir.\n",
    "### Ürünlerin katsayılarına bakıldığında ise, 'product_Rejuvenating Cherry Blossom Ginseng Shampoo' ürününü alanların pozitif yorum yapma eğiliminde olduğu görülüyor."
   ]
  },
  {
   "cell_type": "markdown",
   "id": "fd3ba94e",
   "metadata": {},
   "source": [
    "## Confusion Matrix ve Accuracy"
   ]
  },
  {
   "cell_type": "code",
   "execution_count": 77,
   "id": "20de6306",
   "metadata": {},
   "outputs": [
    {
     "name": "stdout",
     "output_type": "stream",
     "text": [
      "[[  3  77]\n",
      " [  3 397]]\n",
      "0.8333333333333334\n"
     ]
    }
   ],
   "source": [
    "from sklearn.metrics import accuracy_score, confusion_matrix\n",
    "fits = log_model.predict(x)\n",
    "\n",
    "print(confusion_matrix(y, fits))\n",
    "print(accuracy_score(y, fits))"
   ]
  },
  {
   "cell_type": "markdown",
   "id": "d4f47b06",
   "metadata": {},
   "source": [
    "### Confusion matrix incelendiğinde, model pozitif yorumları çok iyi bir şekilde tahmin edebiliyorken negatif yorumları çok kötü tahmin ediyor. Model 80 negatif yorumun sadece 3 tanesini negatif olarak tahmin etmiş, 400 pozitif yorumun ise 397'sini pozitif olarak tahmin etmiştir.\n",
    "### Model %83 doğruluk oranına sahiptir. Modelin tahminlerinin %83'ünün doğru olduğu görülüyor."
   ]
  },
  {
   "cell_type": "markdown",
   "id": "f64c951d",
   "metadata": {},
   "source": [
    "## AUC Değeri ve Grafiği"
   ]
  },
  {
   "cell_type": "code",
   "execution_count": 78,
   "id": "b62a71ea",
   "metadata": {},
   "outputs": [
    {
     "data": {
      "text/plain": [
       "Text(0, 0.5, 'True Positive Rate')"
      ]
     },
     "execution_count": 78,
     "metadata": {},
     "output_type": "execute_result"
    },
    {
     "data": {
      "image/png": "[encoded data removed]",
      "text/plain": [
       "<Figure size 432x288 with 1 Axes>"
      ]
     },
     "metadata": {
      "needs_background": "light"
     },
     "output_type": "display_data"
    }
   ],
   "source": [
    "from sklearn.metrics import roc_auc_score, roc_curve\n",
    "import matplotlib.pyplot as mt\n",
    "\n",
    "aucs= roc_auc_score(y, fits)\n",
    "fpr, tpr, treshold_val = roc_curve(y, log_model.predict_log_proba(x)[:,1])\n",
    "mt.figure()\n",
    "mt.plot(fpr,tpr)\n",
    "mt.plot([0,1],[0,1],\"r\") \n",
    "mt.xlabel(\"False Pozitive Rate\")\n",
    "mt.ylabel(\"True Positive Rate\")"
   ]
  },
  {
   "cell_type": "code",
   "execution_count": 79,
   "id": "6bb0be52",
   "metadata": {},
   "outputs": [
    {
     "data": {
      "text/plain": [
       "1    400\n",
       "0     80\n",
       "Name: sentiment, dtype: int64"
      ]
     },
     "execution_count": 79,
     "metadata": {},
     "output_type": "execute_result"
    }
   ],
   "source": [
    "jhns2[\"sentiment\"].value_counts()"
   ]
  },
  {
   "cell_type": "markdown",
   "id": "43e9af72",
   "metadata": {},
   "source": [
    "### Verisetinde 400 tane olumlu 80 tane olumsuz yorum içeren gözlem olduğu için eğitim ve test verisini ayırırken train_test_split ile ayırırsam dengesiz dağılabileceği için eşit oranlarda pozitif ve negatif yorum içerecek şekilde verisetimi kendim ayırdım. %30 test %70 eğitim olacak şekilde ayırdım."
   ]
  },
  {
   "cell_type": "code",
   "execution_count": 80,
   "id": "38741d14",
   "metadata": {},
   "outputs": [],
   "source": [
    "from sklearn.model_selection import train_test_split,cross_val_score\n",
    "import random\n",
    "\n",
    "random.seed(123)\n",
    "\n",
    "\n",
    "olumlu_veriseti_index=list(jhns2[jhns2[\"sentiment\"]==1].index)\n",
    "olumsuz_veriseti_index=list(jhns2[jhns2[\"sentiment\"]==0].index)\n",
    "\n",
    "test_olumsuz_index=random.sample(olumsuz_veriseti_index, int(len(olumsuz_veriseti_index)*0.3))\n",
    "test_olumlu_index=random.sample(olumlu_veriseti_index, int(len(olumlu_veriseti_index)*0.3))\n",
    "test_index=test_olumsuz_index+test_olumlu_index\n",
    "\n",
    "egitim_olumsuz_index=random.sample(olumsuz_veriseti_index, int(len(olumsuz_veriseti_index)*0.7))\n",
    "egitim_olumlu_index=random.sample(olumlu_veriseti_index, int(len(olumlu_veriseti_index)*0.7))\n",
    "egitim_index=egitim_olumsuz_index+egitim_olumlu_index\n",
    "\n",
    "x_test= x.iloc[test_index]\n",
    "x_train=x.iloc[egitim_index]\n",
    "\n",
    "y_test=y.iloc[test_index]\n",
    "y_train=y.iloc[egitim_index]"
   ]
  },
  {
   "cell_type": "code",
   "execution_count": 81,
   "id": "5e7256dd",
   "metadata": {},
   "outputs": [
    {
     "name": "stdout",
     "output_type": "stream",
     "text": [
      "0.8472222222222222\n",
      "[[  3  21]\n",
      " [  1 119]]\n"
     ]
    }
   ],
   "source": [
    "log_model= LogisticRegression(solver=\"liblinear\").fit(x_train, y_train)\n",
    "preds= log_model.predict(x_test)\n",
    "print(accuracy_score(y_test, preds))\n",
    "print(confusion_matrix(y_test,preds))"
   ]
  },
  {
   "cell_type": "markdown",
   "id": "b66d68b2",
   "metadata": {},
   "source": [
    "### Model pozitif değerleri iyi tahmin ediyor negatifleri kötü tahmin ediyor. Accuracy score'da ise çok bir değişiklik yok."
   ]
  },
  {
   "cell_type": "code",
   "execution_count": 82,
   "id": "16141b88",
   "metadata": {},
   "outputs": [
    {
     "data": {
      "text/plain": [
       "0.8404761904761904"
      ]
     },
     "execution_count": 82,
     "metadata": {},
     "output_type": "execute_result"
    }
   ],
   "source": [
    "cross_val_score(log_model, x_test, y_test, cv=10).mean()"
   ]
  },
  {
   "cell_type": "markdown",
   "id": "2b718efc",
   "metadata": {},
   "source": [
    "### Cross validation sonucunda da benzer değer elde edildi."
   ]
  },
  {
   "cell_type": "markdown",
   "id": "cbd1e4f7",
   "metadata": {},
   "source": [
    "## Random Forest"
   ]
  },
  {
   "cell_type": "code",
   "execution_count": 84,
   "id": "ef6e652a",
   "metadata": {},
   "outputs": [
    {
     "name": "stdout",
     "output_type": "stream",
     "text": [
      "[[ 17   7]\n",
      " [  3 117]]\n",
      "0.9305555555555556\n"
     ]
    }
   ],
   "source": [
    "from sklearn.ensemble import RandomForestClassifier\n",
    "from sklearn.model_selection import GridSearchCV\n",
    "rf_model= RandomForestClassifier().fit(x_train, y_train)\n",
    "preds_rf= rf_model.predict(x_test)\n",
    "print(confusion_matrix(y_test, preds_rf))\n",
    "print(accuracy_score(y_test, preds_rf))"
   ]
  },
  {
   "cell_type": "markdown",
   "id": "812de32e",
   "metadata": {},
   "source": [
    "### Counfusion matris ve accuracy skoru incelendiğinde modelin tahmin performansında genel bir artış olduğu görülüyor. OLS Regresyon modeli 1 sınıfını zaten iyi tahmin edebiliyordu ama 0 sınıfındaki tahmin performansı önemli derecede artmış. Model artık hem pozitif'i pozitif olarak hem de negatif'i negatif olarak tahmin edebiliyor.\n",
    "### Accuracy score'u da 0.93'e yükselmiş."
   ]
  },
  {
   "cell_type": "markdown",
   "id": "b63799ef",
   "metadata": {},
   "source": [
    "## Model Optimizasyonu"
   ]
  },
  {
   "cell_type": "code",
   "execution_count": 85,
   "id": "c74d6e6f",
   "metadata": {},
   "outputs": [
    {
     "name": "stdout",
     "output_type": "stream",
     "text": [
      "Fitting 10 folds for each of 120 candidates, totalling 1200 fits\n"
     ]
    },
    {
     "data": {
      "text/plain": [
       "{'max_depth': 160, 'min_samples_split': 6, 'n_estimators': 110}"
      ]
     },
     "execution_count": 85,
     "metadata": {},
     "output_type": "execute_result"
    }
   ],
   "source": [
    "rf=RandomForestClassifier()\n",
    "rf_params={\"max_depth\":[None,100,120,160,200,240], \"n_estimators\":[100,110,120,130], \"min_samples_split\": [2,3,4,5,6]}\n",
    "\n",
    "rf_cv= GridSearchCV(rf, rf_params, cv=10, n_jobs=-1, verbose=2).fit(x_train,y_train)\n",
    "\n",
    "rf_cv.best_params_"
   ]
  },
  {
   "cell_type": "code",
   "execution_count": 91,
   "id": "0bff7731",
   "metadata": {},
   "outputs": [
    {
     "name": "stdout",
     "output_type": "stream",
     "text": [
      "[[ 13  11]\n",
      " [  4 116]]\n",
      "0.8958333333333334\n"
     ]
    }
   ],
   "source": [
    "rf_best= RandomForestClassifier(max_depth=160 , n_estimators=110 , min_samples_split=6).fit(x_train,y_train)\n",
    "\n",
    "preds_rf_best= rf_best.predict(x_test)\n",
    "print(confusion_matrix(y_test, preds_rf_best))\n",
    "print(accuracy_score(y_test, preds_rf_best))"
   ]
  },
  {
   "cell_type": "code",
   "execution_count": 96,
   "id": "9e9abb5a",
   "metadata": {},
   "outputs": [
    {
     "name": "stdout",
     "output_type": "stream",
     "text": [
      " OLS Regresyon: 0.8472222222222222 \n",
      " Random Forest:  0.9305555555555556\n"
     ]
    }
   ],
   "source": [
    "print(\" OLS Regresyon:\",accuracy_score(y_test, preds), \"\\n\",\"Random Forest: \",accuracy_score(y_test, preds_rf))"
   ]
  },
  {
   "cell_type": "markdown",
   "id": "c4659050",
   "metadata": {},
   "source": [
    "### Model optimizasyonu sonucunda elde edilen parametreler kullanılarak kurulan modelin test seti performansında düşüş oldu. Confusion matrix incelendiğinde modelin pozitif olanları pozitif olarak tahmin edebildiği ama negatif olanları negatif olarak iyi oranda tahmin edemediği görülüyor. Modelin test seti performansındaki düşüşün buradan kaynaklandığı görülüyor.\n",
    "### OLS Regresyon modelin performansı ve Random Forest modelin performansı kıyaslandığında ise Random Forest modelin performansının çok daha iyi olduğu görülüyor. Optimum model olarak, default parametrelerle kurulan Random Forest modeli seçilmelidir."
   ]
  }
 ],
 "metadata": {
  "kernelspec": {
   "display_name": "Python 3",
   "language": "python",
   "name": "python3"
  },
  "language_info": {
   "codemirror_mode": {
    "name": "ipython",
    "version": 3
   },
   "file_extension": ".py",
   "mimetype": "text/x-python",
   "name": "python",
   "nbconvert_exporter": "python",
   "pygments_lexer": "ipython3",
   "version": "3.8.8"
  }
 },
 "nbformat": 4,
 "nbformat_minor": 5
}
